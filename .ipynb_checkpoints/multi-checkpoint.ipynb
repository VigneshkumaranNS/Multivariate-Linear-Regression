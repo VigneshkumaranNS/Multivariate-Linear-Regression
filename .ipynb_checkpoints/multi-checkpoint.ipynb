{
 "cells": [
  {
   "cell_type": "code",
   "execution_count": 1,
   "id": "ac814785-3c7b-4b05-a51d-790af17a7b29",
   "metadata": {},
   "outputs": [
    {
     "name": "stdout",
     "output_type": "stream",
     "text": [
      "Coefficients: [0.00755095 0.00780526]\n",
      "Intercept: 79.69471929115939\n",
      "Predicted CO2 for the corresponding weight and volume [114.75968007]\n"
     ]
    },
    {
     "name": "stderr",
     "output_type": "stream",
     "text": [
      "/home/sec/anaconda3/envs/ml/lib/python3.10/site-packages/sklearn/base.py:450: UserWarning: X does not have valid feature names, but LinearRegression was fitted with feature names\n",
      "  warnings.warn(\n"
     ]
    }
   ],
   "source": [
    "##Developed by: VIGNESH KUMARAN N.S\n",
    "##REGISTER NUMBER: 22008928\n",
    "\n",
    "import pandas as pd\n",
    "from sklearn import linear_model\n",
    "\n",
    "df = pd.read_csv(\"cars.csv\")\n",
    "\n",
    "X = df[['Weight', 'Volume']]\n",
    "y = df['CO2']\n",
    "\n",
    "regr = linear_model.LinearRegression()\n",
    "regr.fit(X, y)\n",
    "\n",
    "print('Coefficients:', regr.coef_)\n",
    "print('Intercept:',regr.intercept_)\n",
    "\n",
    "predictedCO2 = regr.predict([[3300, 1300]])\n",
    "print('Predicted CO2 for the corresponding weight and volume',predictedCO2)"
   ]
  },
  {
   "cell_type": "code",
   "execution_count": null,
   "id": "3ce6ef16-4c3e-4b86-8540-0223cbb1aa63",
   "metadata": {},
   "outputs": [],
   "source": []
  }
 ],
 "metadata": {
  "kernelspec": {
   "display_name": "Python 3 (ipykernel)",
   "language": "python",
   "name": "python3"
  },
  "language_info": {
   "codemirror_mode": {
    "name": "ipython",
    "version": 3
   },
   "file_extension": ".py",
   "mimetype": "text/x-python",
   "name": "python",
   "nbconvert_exporter": "python",
   "pygments_lexer": "ipython3",
   "version": "3.10.4"
  }
 },
 "nbformat": 4,
 "nbformat_minor": 5
}
